{
  "nbformat": 4,
  "nbformat_minor": 0,
  "metadata": {
    "colab": {
      "name": "delhi_weather_data_visualisation.ipynb",
      "provenance": [],
      "collapsed_sections": []
    },
    "kernelspec": {
      "name": "python3",
      "display_name": "Python 3"
    },
    "accelerator": "GPU"
  },
  "cells": [
    {
      "cell_type": "markdown",
      "metadata": {
        "id": "APtIpnSGB91m",
        "colab_type": "text"
      },
      "source": [
        "## Visualisation"
      ]
    },
    {
      "cell_type": "code",
      "metadata": {
        "id": "8o72iQJcBYhU",
        "colab_type": "code",
        "colab": {}
      },
      "source": [
        "simplified_dataset_url = \"https://raw.githubusercontent.com/vishal-pandey/ml-and-ds/master/datasets/delhi_weather_simplified.csv\""
      ],
      "execution_count": 0,
      "outputs": []
    },
    {
      "cell_type": "code",
      "metadata": {
        "id": "bM4XOLxKBfCB",
        "colab_type": "code",
        "colab": {}
      },
      "source": [
        "import numpy as np\n",
        "import matplotlib.pyplot as plt\n",
        "import pandas as pd"
      ],
      "execution_count": 0,
      "outputs": []
    },
    {
      "cell_type": "code",
      "metadata": {
        "id": "O2WWvSf0Bo-e",
        "colab_type": "code",
        "colab": {}
      },
      "source": [
        "df1 = pd.read_csv(simplified_dataset_url)"
      ],
      "execution_count": 0,
      "outputs": []
    },
    {
      "cell_type": "code",
      "metadata": {
        "id": "1gM23L_0ENyM",
        "colab_type": "code",
        "colab": {}
      },
      "source": [
        "df1['datetime_utc'] = pd.to_datetime(df1['datetime_utc'])\n",
        "df1.set_index('datetime_utc', inplace= True)"
      ],
      "execution_count": 0,
      "outputs": []
    },
    {
      "cell_type": "code",
      "metadata": {
        "id": "ButqZd68D2Qn",
        "colab_type": "code",
        "colab": {
          "base_uri": "https://localhost:8080/",
          "height": 450
        },
        "outputId": "5fb05e91-9d4e-4399-a3f2-7214963a94f9"
      },
      "source": [
        "df1"
      ],
      "execution_count": 19,
      "outputs": [
        {
          "output_type": "execute_result",
          "data": {
            "text/html": [
              "<div>\n",
              "<style scoped>\n",
              "    .dataframe tbody tr th:only-of-type {\n",
              "        vertical-align: middle;\n",
              "    }\n",
              "\n",
              "    .dataframe tbody tr th {\n",
              "        vertical-align: top;\n",
              "    }\n",
              "\n",
              "    .dataframe thead th {\n",
              "        text-align: right;\n",
              "    }\n",
              "</style>\n",
              "<table border=\"1\" class=\"dataframe\">\n",
              "  <thead>\n",
              "    <tr style=\"text-align: right;\">\n",
              "      <th></th>\n",
              "      <th>_dewptm</th>\n",
              "      <th>_fog</th>\n",
              "      <th>_hail</th>\n",
              "      <th>_hum</th>\n",
              "      <th>_pressurem</th>\n",
              "      <th>_rain</th>\n",
              "      <th>_snow</th>\n",
              "      <th>_tempm</th>\n",
              "    </tr>\n",
              "    <tr>\n",
              "      <th>datetime_utc</th>\n",
              "      <th></th>\n",
              "      <th></th>\n",
              "      <th></th>\n",
              "      <th></th>\n",
              "      <th></th>\n",
              "      <th></th>\n",
              "      <th></th>\n",
              "      <th></th>\n",
              "    </tr>\n",
              "  </thead>\n",
              "  <tbody>\n",
              "    <tr>\n",
              "      <th>1996-11-01</th>\n",
              "      <td>11.666667</td>\n",
              "      <td>0.000000</td>\n",
              "      <td>0.0</td>\n",
              "      <td>52.916667</td>\n",
              "      <td>-2659.666667</td>\n",
              "      <td>0.0</td>\n",
              "      <td>0.0</td>\n",
              "      <td>22.333333</td>\n",
              "    </tr>\n",
              "    <tr>\n",
              "      <th>1996-11-02</th>\n",
              "      <td>10.458333</td>\n",
              "      <td>0.000000</td>\n",
              "      <td>0.0</td>\n",
              "      <td>48.625000</td>\n",
              "      <td>1009.833333</td>\n",
              "      <td>0.0</td>\n",
              "      <td>0.0</td>\n",
              "      <td>22.916667</td>\n",
              "    </tr>\n",
              "    <tr>\n",
              "      <th>1996-11-03</th>\n",
              "      <td>12.041667</td>\n",
              "      <td>0.000000</td>\n",
              "      <td>0.0</td>\n",
              "      <td>55.958333</td>\n",
              "      <td>1010.500000</td>\n",
              "      <td>0.0</td>\n",
              "      <td>0.0</td>\n",
              "      <td>21.791667</td>\n",
              "    </tr>\n",
              "    <tr>\n",
              "      <th>1996-11-04</th>\n",
              "      <td>10.222222</td>\n",
              "      <td>0.000000</td>\n",
              "      <td>0.0</td>\n",
              "      <td>48.055556</td>\n",
              "      <td>1011.333333</td>\n",
              "      <td>0.0</td>\n",
              "      <td>0.0</td>\n",
              "      <td>22.722222</td>\n",
              "    </tr>\n",
              "    <tr>\n",
              "      <th>1996-11-05</th>\n",
              "      <td>8.200000</td>\n",
              "      <td>0.000000</td>\n",
              "      <td>0.0</td>\n",
              "      <td>29.400000</td>\n",
              "      <td>1011.800000</td>\n",
              "      <td>0.0</td>\n",
              "      <td>0.0</td>\n",
              "      <td>27.800000</td>\n",
              "    </tr>\n",
              "    <tr>\n",
              "      <th>...</th>\n",
              "      <td>...</td>\n",
              "      <td>...</td>\n",
              "      <td>...</td>\n",
              "      <td>...</td>\n",
              "      <td>...</td>\n",
              "      <td>...</td>\n",
              "      <td>...</td>\n",
              "      <td>...</td>\n",
              "    </tr>\n",
              "    <tr>\n",
              "      <th>2016-11-26</th>\n",
              "      <td>8.250000</td>\n",
              "      <td>0.000000</td>\n",
              "      <td>0.0</td>\n",
              "      <td>33.750000</td>\n",
              "      <td>1013.250000</td>\n",
              "      <td>0.0</td>\n",
              "      <td>0.0</td>\n",
              "      <td>23.937500</td>\n",
              "    </tr>\n",
              "    <tr>\n",
              "      <th>2016-11-27</th>\n",
              "      <td>7.409091</td>\n",
              "      <td>0.000000</td>\n",
              "      <td>0.0</td>\n",
              "      <td>33.636364</td>\n",
              "      <td>1013.590909</td>\n",
              "      <td>0.0</td>\n",
              "      <td>0.0</td>\n",
              "      <td>23.636364</td>\n",
              "    </tr>\n",
              "    <tr>\n",
              "      <th>2016-11-28</th>\n",
              "      <td>6.222222</td>\n",
              "      <td>0.000000</td>\n",
              "      <td>0.0</td>\n",
              "      <td>32.500000</td>\n",
              "      <td>-210.500000</td>\n",
              "      <td>0.0</td>\n",
              "      <td>0.0</td>\n",
              "      <td>23.666667</td>\n",
              "    </tr>\n",
              "    <tr>\n",
              "      <th>2016-11-29</th>\n",
              "      <td>11.363636</td>\n",
              "      <td>0.000000</td>\n",
              "      <td>0.0</td>\n",
              "      <td>43.818182</td>\n",
              "      <td>1014.909091</td>\n",
              "      <td>0.0</td>\n",
              "      <td>0.0</td>\n",
              "      <td>24.636364</td>\n",
              "    </tr>\n",
              "    <tr>\n",
              "      <th>2016-11-30</th>\n",
              "      <td>16.823529</td>\n",
              "      <td>0.352941</td>\n",
              "      <td>0.0</td>\n",
              "      <td>76.294118</td>\n",
              "      <td>1016.529412</td>\n",
              "      <td>0.0</td>\n",
              "      <td>0.0</td>\n",
              "      <td>21.294118</td>\n",
              "    </tr>\n",
              "  </tbody>\n",
              "</table>\n",
              "<p>7335 rows × 8 columns</p>\n",
              "</div>"
            ],
            "text/plain": [
              "                _dewptm      _fog   _hail  ...   _rain   _snow     _tempm\n",
              "datetime_utc                               ...                           \n",
              "1996-11-01    11.666667  0.000000     0.0  ...     0.0     0.0  22.333333\n",
              "1996-11-02    10.458333  0.000000     0.0  ...     0.0     0.0  22.916667\n",
              "1996-11-03    12.041667  0.000000     0.0  ...     0.0     0.0  21.791667\n",
              "1996-11-04    10.222222  0.000000     0.0  ...     0.0     0.0  22.722222\n",
              "1996-11-05     8.200000  0.000000     0.0  ...     0.0     0.0  27.800000\n",
              "...                 ...       ...     ...  ...     ...     ...        ...\n",
              "2016-11-26     8.250000  0.000000     0.0  ...     0.0     0.0  23.937500\n",
              "2016-11-27     7.409091  0.000000     0.0  ...     0.0     0.0  23.636364\n",
              "2016-11-28     6.222222  0.000000     0.0  ...     0.0     0.0  23.666667\n",
              "2016-11-29    11.363636  0.000000     0.0  ...     0.0     0.0  24.636364\n",
              "2016-11-30    16.823529  0.352941     0.0  ...     0.0     0.0  21.294118\n",
              "\n",
              "[7335 rows x 8 columns]"
            ]
          },
          "metadata": {
            "tags": []
          },
          "execution_count": 19
        }
      ]
    },
    {
      "cell_type": "code",
      "metadata": {
        "id": "PZ0z9nsFBr9t",
        "colab_type": "code",
        "colab": {
          "base_uri": "https://localhost:8080/",
          "height": 68
        },
        "outputId": "caf13bca-2dae-4681-ff07-2d625e178565"
      },
      "source": [
        "df1.columns"
      ],
      "execution_count": 20,
      "outputs": [
        {
          "output_type": "execute_result",
          "data": {
            "text/plain": [
              "Index([' _dewptm', ' _fog', ' _hail', ' _hum', ' _pressurem', ' _rain',\n",
              "       ' _snow', ' _tempm'],\n",
              "      dtype='object')"
            ]
          },
          "metadata": {
            "tags": []
          },
          "execution_count": 20
        }
      ]
    },
    {
      "cell_type": "code",
      "metadata": {
        "id": "5cfJjrA_Btgu",
        "colab_type": "code",
        "colab": {}
      },
      "source": [
        "month_names = ['Jan', 'Feb', 'Mar', 'Apr', 'May', 'Jun', 'Jul', 'Aug', 'Sep', 'Oct', 'Nov', 'Dec']"
      ],
      "execution_count": 0,
      "outputs": []
    },
    {
      "cell_type": "code",
      "metadata": {
        "id": "_ra91n56BwfW",
        "colab_type": "code",
        "colab": {
          "base_uri": "https://localhost:8080/",
          "height": 34
        },
        "outputId": "a2803ac2-b91b-4361-bd1d-99a0f99474cd"
      },
      "source": [
        "np.array([df1.index.values, df1[' _tempm'].values]).shape"
      ],
      "execution_count": 22,
      "outputs": [
        {
          "output_type": "execute_result",
          "data": {
            "text/plain": [
              "(2, 7335)"
            ]
          },
          "metadata": {
            "tags": []
          },
          "execution_count": 22
        }
      ]
    },
    {
      "cell_type": "markdown",
      "metadata": {
        "id": "OcgZJNvRCC93",
        "colab_type": "text"
      },
      "source": [
        "### Seeing shape of the time series data spread\n",
        "\n",
        "By seeing the shape of the shape of the temperature spread over the years we can conclude that there is pattern in the temperature over the year every year which we can model"
      ]
    },
    {
      "cell_type": "code",
      "metadata": {
        "id": "C0RIqVzSByYX",
        "colab_type": "code",
        "colab": {
          "base_uri": "https://localhost:8080/",
          "height": 266
        },
        "outputId": "e0cfc14b-defe-4b25-802b-2f1a6f4b0a84"
      },
      "source": [
        "plt.figure(figsize=(16, 4))\n",
        "plt.plot(df1.index.values[:], df1[' _tempm'].values[:])\n",
        "plt.show()"
      ],
      "execution_count": 23,
      "outputs": [
        {
          "output_type": "display_data",
          "data": {
            "image/png": "[encoded data removed]",
            "text/plain": [
              "<Figure size 1152x288 with 1 Axes>"
            ]
          },
          "metadata": {
            "tags": []
          }
        }
      ]
    },
    {
      "cell_type": "markdown",
      "metadata": {
        "id": "obtffFUTCGv7",
        "colab_type": "text"
      },
      "source": [
        "### Histogram Plot\n",
        "Plot of histogram and density shows a distribution that looks strongly Gaussian. A well behaved distribution is favourable for linear time series forcasting."
      ]
    },
    {
      "cell_type": "code",
      "metadata": {
        "id": "43yQDjvGCEmp",
        "colab_type": "code",
        "colab": {
          "base_uri": "https://localhost:8080/",
          "height": 265
        },
        "outputId": "54b90af7-fb25-4ee1-d509-4d35e4206e0d"
      },
      "source": [
        "df1[' _tempm'].hist()\n",
        "plt.show()"
      ],
      "execution_count": 24,
      "outputs": [
        {
          "output_type": "display_data",
          "data": {
            "image/png": "[encoded data removed]",
            "text/plain": [
              "<Figure size 432x288 with 1 Axes>"
            ]
          },
          "metadata": {
            "tags": []
          }
        }
      ]
    },
    {
      "cell_type": "markdown",
      "metadata": {
        "id": "uTr5fuuyCLC6",
        "colab_type": "text"
      },
      "source": [
        "### Density Plot"
      ]
    },
    {
      "cell_type": "code",
      "metadata": {
        "id": "CQd4EvKWCI83",
        "colab_type": "code",
        "colab": {
          "base_uri": "https://localhost:8080/",
          "height": 269
        },
        "outputId": "4fe594a2-2d17-4b04-a1b8-8eb990848b9f"
      },
      "source": [
        "df1[' _tempm'].plot(kind='kde')\n",
        "plt.show()"
      ],
      "execution_count": 25,
      "outputs": [
        {
          "output_type": "display_data",
          "data": {
            "image/png": "[encoded data removed]",
            "text/plain": [
              "<Figure size 432x288 with 1 Axes>"
            ]
          },
          "metadata": {
            "tags": []
          }
        }
      ]
    },
    {
      "cell_type": "markdown",
      "metadata": {
        "id": "tX6w60t8CPgY",
        "colab_type": "text"
      },
      "source": [
        "### Box and Whisker Plots by Year\n",
        "\n",
        "This show a common trend every year and average temperature of every year is more or less same.\n",
        "\n"
      ]
    },
    {
      "cell_type": "code",
      "metadata": {
        "id": "YBG1Wu23CM23",
        "colab_type": "code",
        "colab": {}
      },
      "source": [
        "groups = df1[' _tempm'][426:-337].groupby(pd.Grouper(freq='A'))"
      ],
      "execution_count": 0,
      "outputs": []
    },
    {
      "cell_type": "code",
      "metadata": {
        "id": "bxRyRPKUCOO3",
        "colab_type": "code",
        "colab": {
          "base_uri": "https://localhost:8080/",
          "height": 266
        },
        "outputId": "3a911a3b-71d2-488e-f17f-97a6eebcb0e1"
      },
      "source": [
        "years = pd.DataFrame()\n",
        "for name, group in groups:\n",
        "  years[name.year] = group.values[:363]\n",
        "  \n",
        "plt.figure(figsize=(16, 4))\n",
        "years.boxplot()\n",
        "\n",
        "plt.show()"
      ],
      "execution_count": 27,
      "outputs": [
        {
          "output_type": "display_data",
          "data": {
            "image/png": "[encoded data removed]",
            "text/plain": [
              "<Figure size 1152x288 with 1 Axes>"
            ]
          },
          "metadata": {
            "tags": []
          }
        }
      ]
    },
    {
      "cell_type": "markdown",
      "metadata": {
        "id": "ndT24fgbC6_W",
        "colab_type": "text"
      },
      "source": [
        "### Box and Whisker Plots by Month\n",
        "\n",
        "This shows that months from march to october show high temperature and others months show lower average temperature which means March to October are summers and November to Feb are winters in delhi."
      ]
    },
    {
      "cell_type": "code",
      "metadata": {
        "id": "ls5xs-RZC5DS",
        "colab_type": "code",
        "colab": {
          "base_uri": "https://localhost:8080/",
          "height": 320
        },
        "outputId": "5dc52187-5845-47c1-d10d-dfa1f9549fea"
      },
      "source": [
        "one_year = df1[' _tempm'][426:-337]['2011']\n",
        "groups = one_year.groupby(pd.Grouper(freq='M'))\n",
        "months = pd.concat([pd.DataFrame(x[1].values) for x in groups], axis=1)\n",
        "months = pd.DataFrame(months)\n",
        "months.columns = range(0,12)\n",
        "plt.figure(figsize=(10, 5))\n",
        "months.boxplot()\n",
        "plt.xticks(np.arange(1, len(month_names)+1, 1), month_names)\n",
        "plt.show()"
      ],
      "execution_count": 28,
      "outputs": [
        {
          "output_type": "display_data",
          "data": {
            "image/png": "[encoded data removed]",
            "text/plain": [
              "<Figure size 720x360 with 1 Axes>"
            ]
          },
          "metadata": {
            "tags": []
          }
        }
      ]
    },
    {
      "cell_type": "markdown",
      "metadata": {
        "id": "3qR_b05_C_nn",
        "colab_type": "text"
      },
      "source": [
        "### Heat map\n",
        "Heat map also proves that the point that \"months from march to october show high temperature and others months show lower average temperature which means March to October are summers and November to Feb are winters in delhi\". It helps to more clearly visualise this fact."
      ]
    },
    {
      "cell_type": "code",
      "metadata": {
        "id": "t5dL182JC8-y",
        "colab_type": "code",
        "colab": {}
      },
      "source": [
        "groups = df1[' _tempm'][426:-337].groupby(pd.Grouper(freq='M'))"
      ],
      "execution_count": 0,
      "outputs": []
    },
    {
      "cell_type": "code",
      "metadata": {
        "id": "PRznDXcDDBzp",
        "colab_type": "code",
        "colab": {}
      },
      "source": [
        "years = pd.DataFrame()\n",
        "tee = []\n",
        "\n",
        "for name, group in groups:\n",
        "  tee.append(np.mean(group.values))\n",
        "  if name.month == 12:\n",
        "    years[name.year] = tee\n",
        "    tee = []"
      ],
      "execution_count": 0,
      "outputs": []
    },
    {
      "cell_type": "code",
      "metadata": {
        "id": "EdpogafiDC9o",
        "colab_type": "code",
        "colab": {}
      },
      "source": [
        "years.set_index([pd.Index(month_names)], inplace=True)"
      ],
      "execution_count": 0,
      "outputs": []
    },
    {
      "cell_type": "code",
      "metadata": {
        "id": "WSq9s-MZDEOA",
        "colab_type": "code",
        "colab": {
          "base_uri": "https://localhost:8080/",
          "height": 441
        },
        "outputId": "77fc14d7-6ceb-47e3-9916-dcbaee0b7d15"
      },
      "source": [
        "years"
      ],
      "execution_count": 32,
      "outputs": [
        {
          "output_type": "execute_result",
          "data": {
            "text/html": [
              "<div>\n",
              "<style scoped>\n",
              "    .dataframe tbody tr th:only-of-type {\n",
              "        vertical-align: middle;\n",
              "    }\n",
              "\n",
              "    .dataframe tbody tr th {\n",
              "        vertical-align: top;\n",
              "    }\n",
              "\n",
              "    .dataframe thead th {\n",
              "        text-align: right;\n",
              "    }\n",
              "</style>\n",
              "<table border=\"1\" class=\"dataframe\">\n",
              "  <thead>\n",
              "    <tr style=\"text-align: right;\">\n",
              "      <th></th>\n",
              "      <th>1998</th>\n",
              "      <th>1999</th>\n",
              "      <th>2000</th>\n",
              "      <th>2001</th>\n",
              "      <th>2002</th>\n",
              "      <th>2003</th>\n",
              "      <th>2004</th>\n",
              "      <th>2005</th>\n",
              "      <th>2006</th>\n",
              "      <th>2007</th>\n",
              "      <th>2008</th>\n",
              "      <th>2009</th>\n",
              "      <th>2010</th>\n",
              "      <th>2011</th>\n",
              "      <th>2012</th>\n",
              "      <th>2013</th>\n",
              "      <th>2014</th>\n",
              "      <th>2015</th>\n",
              "    </tr>\n",
              "  </thead>\n",
              "  <tbody>\n",
              "    <tr>\n",
              "      <th>Jan</th>\n",
              "      <td>13.165094</td>\n",
              "      <td>12.188394</td>\n",
              "      <td>13.769354</td>\n",
              "      <td>12.598292</td>\n",
              "      <td>14.076802</td>\n",
              "      <td>12.209001</td>\n",
              "      <td>13.106573</td>\n",
              "      <td>14.851267</td>\n",
              "      <td>16.628571</td>\n",
              "      <td>14.828149</td>\n",
              "      <td>16.397149</td>\n",
              "      <td>17.499501</td>\n",
              "      <td>15.140967</td>\n",
              "      <td>15.306097</td>\n",
              "      <td>14.628879</td>\n",
              "      <td>14.956741</td>\n",
              "      <td>15.233363</td>\n",
              "      <td>14.155837</td>\n",
              "    </tr>\n",
              "    <tr>\n",
              "      <th>Feb</th>\n",
              "      <td>16.487370</td>\n",
              "      <td>16.546405</td>\n",
              "      <td>17.774499</td>\n",
              "      <td>18.312059</td>\n",
              "      <td>17.415484</td>\n",
              "      <td>17.815335</td>\n",
              "      <td>18.433114</td>\n",
              "      <td>17.865094</td>\n",
              "      <td>24.636905</td>\n",
              "      <td>19.936097</td>\n",
              "      <td>18.932184</td>\n",
              "      <td>20.961777</td>\n",
              "      <td>21.085185</td>\n",
              "      <td>19.628392</td>\n",
              "      <td>17.354310</td>\n",
              "      <td>19.214276</td>\n",
              "      <td>18.310374</td>\n",
              "      <td>21.331845</td>\n",
              "    </tr>\n",
              "    <tr>\n",
              "      <th>Mar</th>\n",
              "      <td>19.607010</td>\n",
              "      <td>22.466220</td>\n",
              "      <td>26.504491</td>\n",
              "      <td>23.497021</td>\n",
              "      <td>24.484348</td>\n",
              "      <td>23.478983</td>\n",
              "      <td>26.624407</td>\n",
              "      <td>25.289708</td>\n",
              "      <td>25.750730</td>\n",
              "      <td>23.696621</td>\n",
              "      <td>27.551382</td>\n",
              "      <td>26.995200</td>\n",
              "      <td>29.982796</td>\n",
              "      <td>25.207258</td>\n",
              "      <td>24.954455</td>\n",
              "      <td>24.111751</td>\n",
              "      <td>23.186444</td>\n",
              "      <td>23.622389</td>\n",
              "    </tr>\n",
              "    <tr>\n",
              "      <th>Apr</th>\n",
              "      <td>29.170242</td>\n",
              "      <td>31.055370</td>\n",
              "      <td>26.787674</td>\n",
              "      <td>29.852883</td>\n",
              "      <td>32.021386</td>\n",
              "      <td>31.739674</td>\n",
              "      <td>31.835351</td>\n",
              "      <td>30.354087</td>\n",
              "      <td>32.483175</td>\n",
              "      <td>32.941270</td>\n",
              "      <td>30.382579</td>\n",
              "      <td>31.682222</td>\n",
              "      <td>36.311111</td>\n",
              "      <td>31.122540</td>\n",
              "      <td>30.123095</td>\n",
              "      <td>30.600992</td>\n",
              "      <td>29.579325</td>\n",
              "      <td>29.334912</td>\n",
              "    </tr>\n",
              "    <tr>\n",
              "      <th>May</th>\n",
              "      <td>34.255518</td>\n",
              "      <td>34.610969</td>\n",
              "      <td>26.488217</td>\n",
              "      <td>32.973339</td>\n",
              "      <td>35.436938</td>\n",
              "      <td>34.835201</td>\n",
              "      <td>34.305240</td>\n",
              "      <td>34.475346</td>\n",
              "      <td>34.254455</td>\n",
              "      <td>33.128255</td>\n",
              "      <td>31.370929</td>\n",
              "      <td>33.878226</td>\n",
              "      <td>36.393856</td>\n",
              "      <td>34.084438</td>\n",
              "      <td>35.350691</td>\n",
              "      <td>35.663978</td>\n",
              "      <td>32.650538</td>\n",
              "      <td>34.551575</td>\n",
              "    </tr>\n",
              "    <tr>\n",
              "      <th>Jun</th>\n",
              "      <td>32.949113</td>\n",
              "      <td>34.268502</td>\n",
              "      <td>30.559636</td>\n",
              "      <td>31.008985</td>\n",
              "      <td>34.245455</td>\n",
              "      <td>35.574871</td>\n",
              "      <td>33.072816</td>\n",
              "      <td>35.374921</td>\n",
              "      <td>32.877103</td>\n",
              "      <td>33.628373</td>\n",
              "      <td>30.471468</td>\n",
              "      <td>35.710952</td>\n",
              "      <td>35.814603</td>\n",
              "      <td>33.092646</td>\n",
              "      <td>36.737937</td>\n",
              "      <td>32.936310</td>\n",
              "      <td>35.707857</td>\n",
              "      <td>33.420595</td>\n",
              "    </tr>\n",
              "    <tr>\n",
              "      <th>Jul</th>\n",
              "      <td>30.217874</td>\n",
              "      <td>32.043975</td>\n",
              "      <td>30.270253</td>\n",
              "      <td>30.968143</td>\n",
              "      <td>35.403720</td>\n",
              "      <td>30.335047</td>\n",
              "      <td>33.289478</td>\n",
              "      <td>30.980722</td>\n",
              "      <td>31.439977</td>\n",
              "      <td>31.817512</td>\n",
              "      <td>31.028264</td>\n",
              "      <td>33.240591</td>\n",
              "      <td>31.577611</td>\n",
              "      <td>31.051037</td>\n",
              "      <td>32.263748</td>\n",
              "      <td>31.245123</td>\n",
              "      <td>32.769212</td>\n",
              "      <td>30.695276</td>\n",
              "    </tr>\n",
              "    <tr>\n",
              "      <th>Aug</th>\n",
              "      <td>29.236690</td>\n",
              "      <td>32.905591</td>\n",
              "      <td>28.700758</td>\n",
              "      <td>31.147548</td>\n",
              "      <td>30.593663</td>\n",
              "      <td>29.979557</td>\n",
              "      <td>29.675243</td>\n",
              "      <td>32.056144</td>\n",
              "      <td>30.959716</td>\n",
              "      <td>30.998532</td>\n",
              "      <td>30.322265</td>\n",
              "      <td>31.588940</td>\n",
              "      <td>29.784536</td>\n",
              "      <td>30.115429</td>\n",
              "      <td>29.766283</td>\n",
              "      <td>30.042934</td>\n",
              "      <td>32.444261</td>\n",
              "      <td>30.354631</td>\n",
              "    </tr>\n",
              "    <tr>\n",
              "      <th>Sep</th>\n",
              "      <td>29.488596</td>\n",
              "      <td>30.795494</td>\n",
              "      <td>30.178836</td>\n",
              "      <td>31.198280</td>\n",
              "      <td>28.307305</td>\n",
              "      <td>28.949728</td>\n",
              "      <td>31.709914</td>\n",
              "      <td>29.663730</td>\n",
              "      <td>30.367729</td>\n",
              "      <td>31.063214</td>\n",
              "      <td>30.259762</td>\n",
              "      <td>30.689167</td>\n",
              "      <td>28.739277</td>\n",
              "      <td>29.747778</td>\n",
              "      <td>30.726349</td>\n",
              "      <td>31.008889</td>\n",
              "      <td>31.162976</td>\n",
              "      <td>31.784603</td>\n",
              "    </tr>\n",
              "    <tr>\n",
              "      <th>Oct</th>\n",
              "      <td>25.138897</td>\n",
              "      <td>27.617414</td>\n",
              "      <td>28.204807</td>\n",
              "      <td>27.685409</td>\n",
              "      <td>27.188801</td>\n",
              "      <td>26.442551</td>\n",
              "      <td>27.743983</td>\n",
              "      <td>28.858499</td>\n",
              "      <td>29.292557</td>\n",
              "      <td>28.643540</td>\n",
              "      <td>29.376634</td>\n",
              "      <td>29.053763</td>\n",
              "      <td>28.770720</td>\n",
              "      <td>29.205350</td>\n",
              "      <td>29.283077</td>\n",
              "      <td>28.414020</td>\n",
              "      <td>29.268859</td>\n",
              "      <td>29.989094</td>\n",
              "    </tr>\n",
              "    <tr>\n",
              "      <th>Nov</th>\n",
              "      <td>19.973622</td>\n",
              "      <td>22.597650</td>\n",
              "      <td>22.135102</td>\n",
              "      <td>21.478639</td>\n",
              "      <td>21.339548</td>\n",
              "      <td>20.354798</td>\n",
              "      <td>24.745705</td>\n",
              "      <td>24.421071</td>\n",
              "      <td>24.813270</td>\n",
              "      <td>25.317116</td>\n",
              "      <td>24.976796</td>\n",
              "      <td>24.125000</td>\n",
              "      <td>23.656300</td>\n",
              "      <td>26.281798</td>\n",
              "      <td>25.245492</td>\n",
              "      <td>23.113306</td>\n",
              "      <td>25.608227</td>\n",
              "      <td>25.667363</td>\n",
              "    </tr>\n",
              "    <tr>\n",
              "      <th>Dec</th>\n",
              "      <td>14.090288</td>\n",
              "      <td>15.108971</td>\n",
              "      <td>16.137371</td>\n",
              "      <td>15.834624</td>\n",
              "      <td>16.812048</td>\n",
              "      <td>15.136920</td>\n",
              "      <td>17.791551</td>\n",
              "      <td>18.422934</td>\n",
              "      <td>18.884217</td>\n",
              "      <td>17.896582</td>\n",
              "      <td>20.789289</td>\n",
              "      <td>20.228639</td>\n",
              "      <td>18.208354</td>\n",
              "      <td>19.188539</td>\n",
              "      <td>17.823801</td>\n",
              "      <td>18.099607</td>\n",
              "      <td>18.247149</td>\n",
              "      <td>19.026715</td>\n",
              "    </tr>\n",
              "  </tbody>\n",
              "</table>\n",
              "</div>"
            ],
            "text/plain": [
              "          1998       1999       2000  ...       2013       2014       2015\n",
              "Jan  13.165094  12.188394  13.769354  ...  14.956741  15.233363  14.155837\n",
              "Feb  16.487370  16.546405  17.774499  ...  19.214276  18.310374  21.331845\n",
              "Mar  19.607010  22.466220  26.504491  ...  24.111751  23.186444  23.622389\n",
              "Apr  29.170242  31.055370  26.787674  ...  30.600992  29.579325  29.334912\n",
              "May  34.255518  34.610969  26.488217  ...  35.663978  32.650538  34.551575\n",
              "Jun  32.949113  34.268502  30.559636  ...  32.936310  35.707857  33.420595\n",
              "Jul  30.217874  32.043975  30.270253  ...  31.245123  32.769212  30.695276\n",
              "Aug  29.236690  32.905591  28.700758  ...  30.042934  32.444261  30.354631\n",
              "Sep  29.488596  30.795494  30.178836  ...  31.008889  31.162976  31.784603\n",
              "Oct  25.138897  27.617414  28.204807  ...  28.414020  29.268859  29.989094\n",
              "Nov  19.973622  22.597650  22.135102  ...  23.113306  25.608227  25.667363\n",
              "Dec  14.090288  15.108971  16.137371  ...  18.099607  18.247149  19.026715\n",
              "\n",
              "[12 rows x 18 columns]"
            ]
          },
          "metadata": {
            "tags": []
          },
          "execution_count": 32
        }
      ]
    },
    {
      "cell_type": "code",
      "metadata": {
        "id": "t_MdHtIMDFZ_",
        "colab_type": "code",
        "colab": {
          "base_uri": "https://localhost:8080/",
          "height": 483
        },
        "outputId": "0efa7790-3ec4-42c0-d965-a866e573afd9"
      },
      "source": [
        "plt.figure(figsize=(15, 8))\n",
        "plt.pcolor(years)\n",
        "plt.yticks(np.arange(0.5, len(years.index), 1), years.index)\n",
        "plt.xticks(np.arange(0.5, len(years.columns), 1), years.columns)\n",
        "plt.colorbar();\n",
        "plt.show()"
      ],
      "execution_count": 33,
      "outputs": [
        {
          "output_type": "display_data",
          "data": {
            "image/png": "[encoded data removed]",
            "text/plain": [
              "<Figure size 1080x576 with 2 Axes>"
            ]
          },
          "metadata": {
            "tags": []
          }
        }
      ]
    },
    {
      "cell_type": "markdown",
      "metadata": {
        "id": "7U1pfZqbDIqr",
        "colab_type": "text"
      },
      "source": [
        "### Time Series Lag Scatter Plots\n",
        "\n",
        "Time series modeling assumes a relationship between an observation and the previous observation. Since points cluster along a diagonal line from the bottom-left to the top-right of the plot, it suggests a positive correlation relationship. Which shows the we can better time series model it."
      ]
    },
    {
      "cell_type": "code",
      "metadata": {
        "id": "3BpqFihvDGnQ",
        "colab_type": "code",
        "colab": {
          "base_uri": "https://localhost:8080/",
          "height": 280
        },
        "outputId": "a9a4737f-cb27-4620-e702-90412c5cc6e4"
      },
      "source": [
        "pd.plotting.lag_plot(df1[' _tempm'])\n",
        "plt.show()"
      ],
      "execution_count": 34,
      "outputs": [
        {
          "output_type": "display_data",
          "data": {
            "image/png": "[encoded data removed]",
            "text/plain": [
              "<Figure size 432x288 with 1 Axes>"
            ]
          },
          "metadata": {
            "tags": []
          }
        }
      ]
    },
    {
      "cell_type": "code",
      "metadata": {
        "id": "AXb_4eohDK0H",
        "colab_type": "code",
        "colab": {}
      },
      "source": [
        ""
      ],
      "execution_count": 0,
      "outputs": []
    }
  ]
}